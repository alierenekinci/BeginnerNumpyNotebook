{
 "cells": [
  {
   "cell_type": "markdown",
   "metadata": {},
   "source": [
    "# Numpy ve Random Kütüphanesi"
   ]
  },
  {
   "cell_type": "markdown",
   "metadata": {},
   "source": [
    "Pythonda bazı küyüphaneler birlikte çalışmayı seviyorlar nedense. \n",
    "Numpy içerisine random kütüphanesini dahil etmişler. Normalde direk olarakda çağırabilirsin yani."
   ]
  },
  {
   "cell_type": "markdown",
   "metadata": {},
   "source": [
    "## Random Kütüphanesi"
   ]
  },
  {
   "cell_type": "code",
   "execution_count": 3,
   "metadata": {},
   "outputs": [],
   "source": [
    "import random "
   ]
  },
  {
   "cell_type": "code",
   "execution_count": 4,
   "metadata": {},
   "outputs": [
    {
     "data": {
      "text/plain": [
       "4"
      ]
     },
     "execution_count": 4,
     "metadata": {},
     "output_type": "execute_result"
    }
   ],
   "source": [
    "rasgeleSayi = random.randint(0,10)\n",
    "#her çalıştırmanda farklı bir sayı geri döndürecek\n",
    "rasgeleSayi"
   ]
  },
  {
   "cell_type": "markdown",
   "metadata": {},
   "source": [
    "## Random Kütüphanesini direk numpy içerisinde kullanmak"
   ]
  },
  {
   "cell_type": "code",
   "execution_count": 5,
   "metadata": {},
   "outputs": [],
   "source": [
    "import numpy as np # np kısaltmasıyla numpy ı projeye dahil et"
   ]
  },
  {
   "cell_type": "code",
   "execution_count": 6,
   "metadata": {},
   "outputs": [
    {
     "data": {
      "text/plain": [
       "array([[34, 23, 22, 12],\n",
       "       [29, 28, 18, 23],\n",
       "       [29, 30, 21, 37]])"
      ]
     },
     "execution_count": 6,
     "metadata": {},
     "output_type": "execute_result"
    }
   ],
   "source": [
    "rasgeleSayi = np.random.randint(12,44,(3,4))\n",
    "#Random kütüphanesi direk numpy içerisinden aldık\n",
    "rasgeleSayi"
   ]
  },
  {
   "cell_type": "markdown",
   "metadata": {},
   "source": [
    "## Metodlar"
   ]
  },
  {
   "cell_type": "markdown",
   "metadata": {},
   "source": [
    "### rand()\n",
    "Standart düzgün dağılım. min= 0, max=1 olan rasgele sayı üretir."
   ]
  },
  {
   "cell_type": "code",
   "execution_count": 7,
   "metadata": {},
   "outputs": [
    {
     "name": "stdout",
     "output_type": "stream",
     "text": [
      "0.46077799500605643\n"
     ]
    }
   ],
   "source": [
    "a = np.random.rand()\n",
    "print(a)"
   ]
  },
  {
   "cell_type": "code",
   "execution_count": 8,
   "metadata": {},
   "outputs": [
    {
     "name": "stdout",
     "output_type": "stream",
     "text": [
      "0.5376098353087404\n"
     ]
    }
   ],
   "source": [
    "print(np.random.rand())"
   ]
  },
  {
   "cell_type": "code",
   "execution_count": 19,
   "metadata": {},
   "outputs": [
    {
     "name": "stdout",
     "output_type": "stream",
     "text": [
      "[[0.04879237]\n",
      " [0.4482292 ]\n",
      " [0.43976522]\n",
      " [0.98423692]\n",
      " [0.08946731]\n",
      " [0.19011682]]\n"
     ]
    }
   ],
   "source": [
    "print(np.random.rand(2,3).reshape(-1,1))"
   ]
  },
  {
   "cell_type": "code",
   "execution_count": 20,
   "metadata": {},
   "outputs": [
    {
     "name": "stdout",
     "output_type": "stream",
     "text": [
      "[[0.93520528 0.5975967 ]\n",
      " [0.67834442 0.04939207]\n",
      " [0.6877435  0.69517523]\n",
      " [0.54733329 0.69691877]\n",
      " [0.41657455 0.70975368]]\n"
     ]
    }
   ],
   "source": [
    "print(np.random.rand(5,2))"
   ]
  },
  {
   "cell_type": "code",
   "execution_count": 21,
   "metadata": {},
   "outputs": [
    {
     "name": "stdout",
     "output_type": "stream",
     "text": [
      "[[[0.01555454 0.65194083 0.9244645  0.1425593  0.71177005]\n",
      "  [0.94593739 0.51371116 0.60729687 0.61350419 0.15824502]\n",
      "  [0.28504549 0.16502872 0.44542471 0.57912485 0.18736063]]\n",
      "\n",
      " [[0.61973096 0.04999573 0.22705164 0.95822465 0.9396709 ]\n",
      "  [0.05761971 0.04264835 0.8449426  0.31724008 0.58789633]\n",
      "  [0.87992784 0.02432697 0.66025664 0.30786597 0.59430093]]]\n"
     ]
    }
   ],
   "source": [
    "print(np.random.rand(2,3,5)) #Üç boyutlu matris oluşturduk sdad"
   ]
  },
  {
   "cell_type": "code",
   "execution_count": 22,
   "metadata": {},
   "outputs": [],
   "source": [
    "import matplotlib.pyplot as plt"
   ]
  },
  {
   "cell_type": "code",
   "execution_count": 35,
   "metadata": {},
   "outputs": [
    {
     "data": {
      "image/png": "[encoded data removed]",
      "text/plain": [
       "<Figure size 432x288 with 1 Axes>"
      ]
     },
     "metadata": {
      "needs_background": "light"
     },
     "output_type": "display_data"
    }
   ],
   "source": [
    "#Grafiği hangi aralıkta olduğu görelim diye çizdirdim. 0 ile 1 arasında rastgele gelen sayılar var.\n",
    "rasgelesayi = np.random.rand(100)\n",
    "\n",
    "aralik = np.arange(100)\n",
    "plt.scatter(aralik, rasgelesayi)\n",
    "plt.show()"
   ]
  },
  {
   "cell_type": "markdown",
   "metadata": {},
   "source": [
    "### uniform()\n",
    "Rasgele bir sayı üretir. İstediğimiz aralıkta üretmemizi sağlar."
   ]
  },
  {
   "cell_type": "code",
   "execution_count": 36,
   "metadata": {},
   "outputs": [
    {
     "data": {
      "text/plain": [
       "0.20826735397545926"
      ]
     },
     "execution_count": 36,
     "metadata": {},
     "output_type": "execute_result"
    }
   ],
   "source": [
    "a = np.random.uniform()#low=0.0, high=1.0, size=None varsayılan olarak geliyor\n",
    "a"
   ]
  },
  {
   "cell_type": "code",
   "execution_count": 37,
   "metadata": {},
   "outputs": [
    {
     "name": "stdout",
     "output_type": "stream",
     "text": [
      "1.1266024953676337\n"
     ]
    }
   ],
   "source": [
    "print(np.random.uniform(1,3))"
   ]
  },
  {
   "cell_type": "code",
   "execution_count": 38,
   "metadata": {},
   "outputs": [
    {
     "name": "stdout",
     "output_type": "stream",
     "text": [
      "[2.55925063 1.5559153  1.99191023 1.63562778 1.69533723]\n"
     ]
    }
   ],
   "source": [
    "print(np.random.uniform(1,3,5))"
   ]
  },
  {
   "cell_type": "code",
   "execution_count": 39,
   "metadata": {},
   "outputs": [
    {
     "name": "stdout",
     "output_type": "stream",
     "text": [
      "[2.53462039 2.52289211 1.85237171 2.21305184 1.42181518 2.91555694\n",
      " 1.76837231 1.52475977 2.37543824 2.99858326 2.0870829  2.936564\n",
      " 1.12475599 1.33893864 1.73386651 2.15260996 2.64470692 1.6137518\n",
      " 1.78383883 2.14132512 2.50141562 2.27423309 2.00030396 1.55857164\n",
      " 2.26317586 2.73822652 2.53896695 1.39456317 1.20318906 2.69202953\n",
      " 1.6575374  1.4834306  1.56152384 2.60233016 2.00012823 2.05084281\n",
      " 2.24890636 2.74953641 2.18063008 1.55512878 2.8500786  1.57390901\n",
      " 2.31550519 1.41857914 1.47910287 2.83830197 2.27611952 1.00127256\n",
      " 1.7506942  2.32741067 2.69143138 1.03384558 2.90135634 1.18687983\n",
      " 2.18441381 1.99235302 2.78977938 2.8213349  2.80311112 1.54782892\n",
      " 2.51890519 1.98386179 2.68715428 1.95901457 2.70185619 1.97888092\n",
      " 1.94787922 2.95796944 1.24707101 2.88304465 1.9750369  2.95412921\n",
      " 2.91998083 2.03539585 1.87281623 1.05208354 1.41538978 2.50517182\n",
      " 1.84231364 2.83787232 2.66662341 1.22740109 1.4735586  1.13521215\n",
      " 2.81671611 2.76395197 2.99373371 2.34699539 2.24046681 2.14750237\n",
      " 2.60267485 2.17271882 2.80892498 2.55880403 2.65077852 1.41906096\n",
      " 1.58749911 1.97673086 2.17675385 2.00945826]\n"
     ]
    }
   ],
   "source": [
    "print(np.random.uniform(1,3,100))"
   ]
  },
  {
   "cell_type": "code",
   "execution_count": 40,
   "metadata": {},
   "outputs": [
    {
     "name": "stdout",
     "output_type": "stream",
     "text": [
      "[[1.57081692 2.80661744 2.34858372]\n",
      " [1.90024364 1.69013754 2.14826651]]\n"
     ]
    }
   ],
   "source": [
    "print(np.random.uniform(1,3,(2,3)))#Matris olması için tuple olarak belirmemiz gerekiyor"
   ]
  },
  {
   "cell_type": "code",
   "execution_count": 41,
   "metadata": {},
   "outputs": [
    {
     "name": "stdout",
     "output_type": "stream",
     "text": [
      "[[ 8.14399499  1.17929463  5.01584022]\n",
      " [ 5.76718847 13.76926458  4.36495229]\n",
      " [ 1.43866447  5.07130694 19.45731054]\n",
      " [19.31484314  2.01035741 11.43981195]\n",
      " [11.64943551  4.14208821 11.17236273]]\n"
     ]
    }
   ],
   "source": [
    "print(np.random.uniform(1,20,(5,3)))"
   ]
  },
  {
   "cell_type": "code",
   "execution_count": 42,
   "metadata": {},
   "outputs": [
    {
     "name": "stdout",
     "output_type": "stream",
     "text": [
      "[[5.72386190e-01 2.51224035e-01]\n",
      " [5.04459477e-01 6.71343462e-01]\n",
      " [1.18179454e-02 8.31949274e-02]\n",
      " [2.15162682e-01 1.36583902e-01]\n",
      " [6.12565124e-04 4.68808179e-01]\n",
      " [1.52000555e-01 2.94942598e-01]\n",
      " [9.29437616e-01 7.12978118e-01]\n",
      " [3.13387305e-01 8.92821443e-01]\n",
      " [6.70731905e-01 7.30646506e-01]\n",
      " [2.66973179e-01 6.76386652e-01]]\n"
     ]
    }
   ],
   "source": [
    "print(np.random.uniform(0,1,(10,2)))"
   ]
  },
  {
   "cell_type": "code",
   "execution_count": 43,
   "metadata": {},
   "outputs": [
    {
     "data": {
      "text/plain": [
       "4.366301459579546"
      ]
     },
     "execution_count": 43,
     "metadata": {},
     "output_type": "execute_result"
    }
   ],
   "source": [
    "a = np.random.uniform(low=3.0, high=5.0, size=None)#3 ile 5 arasından 1 sayıyı normal dağılımdan verir.\n",
    "a"
   ]
  },
  {
   "cell_type": "code",
   "execution_count": 44,
   "metadata": {},
   "outputs": [
    {
     "data": {
      "text/plain": [
       "array([[4.57389405, 3.65330337, 3.38385106, 4.16019135],\n",
       "       [4.54564644, 3.80743978, 3.35821751, 3.47682444]])"
      ]
     },
     "execution_count": 44,
     "metadata": {},
     "output_type": "execute_result"
    }
   ],
   "source": [
    "a = np.random.uniform(low=3.0, high=5.0, size=(2,4))#3 ile 5 arasından 2ye 4 lük matrise normal dağılımdan rasgele dağılım verir. \n",
    "a"
   ]
  },
  {
   "cell_type": "code",
   "execution_count": 47,
   "metadata": {},
   "outputs": [
    {
     "name": "stdout",
     "output_type": "stream",
     "text": [
      "[0.10786832 0.835512   0.70118754 0.55570059 0.0540351  0.48828813\n",
      " 0.92609206 0.17963415 0.20725593 0.08326096] [0 1 2 3 4 5 6 7 8 9]\n"
     ]
    },
    {
     "data": {
      "image/png": "[encoded data removed]",
      "text/plain": [
       "<Figure size 432x288 with 1 Axes>"
      ]
     },
     "metadata": {
      "needs_background": "light"
     },
     "output_type": "display_data"
    }
   ],
   "source": [
    "rasgelesayi = np.random.uniform(0,1,10) #0 ile 1 arasından 1000 tane sayı üretiyoruz.\n",
    "aralik = np.arange(10)\n",
    "print(rasgelesayi,aralik)\n",
    "\n",
    "plt.scatter(aralik, rasgelesayi)\n",
    "plt.show()"
   ]
  },
  {
   "cell_type": "markdown",
   "metadata": {},
   "source": [
    "### randn()\n",
    "Standart Normal dağılım. mu = 0, standart sapması=1 olan sayılar üretir."
   ]
  },
  {
   "cell_type": "code",
   "execution_count": 65,
   "metadata": {},
   "outputs": [
    {
     "data": {
      "text/plain": [
       "-0.9543142593734618"
      ]
     },
     "execution_count": 65,
     "metadata": {},
     "output_type": "execute_result"
    }
   ],
   "source": [
    "a = np.random.randn()#normal dağılımdan bir sayı çeker.\n",
    "a"
   ]
  },
  {
   "cell_type": "code",
   "execution_count": 49,
   "metadata": {},
   "outputs": [
    {
     "name": "stdout",
     "output_type": "stream",
     "text": [
      "-0.6927934820470257\n"
     ]
    }
   ],
   "source": [
    "print(np.random.randn())"
   ]
  },
  {
   "cell_type": "code",
   "execution_count": 50,
   "metadata": {},
   "outputs": [
    {
     "name": "stdout",
     "output_type": "stream",
     "text": [
      "[[ 1.62911554  0.30338406 -1.72711308]\n",
      " [ 1.06423188  0.26042291 -0.91066533]]\n"
     ]
    }
   ],
   "source": [
    "print(np.random.randn(2,3))"
   ]
  },
  {
   "cell_type": "code",
   "execution_count": 51,
   "metadata": {},
   "outputs": [
    {
     "name": "stdout",
     "output_type": "stream",
     "text": [
      "[[ 0.76894658]\n",
      " [-2.42468995]\n",
      " [ 0.07398258]\n",
      " [-1.33243491]\n",
      " [-0.6305204 ]]\n"
     ]
    }
   ],
   "source": [
    "print(np.random.randn(5,1))"
   ]
  },
  {
   "cell_type": "code",
   "execution_count": 69,
   "metadata": {},
   "outputs": [
    {
     "name": "stdout",
     "output_type": "stream",
     "text": [
      "[[-1.41285311]\n",
      " [-0.95272217]\n",
      " [ 2.19216403]\n",
      " [-2.02851383]\n",
      " [-4.1295548 ]]\n"
     ]
    }
   ],
   "source": [
    "print(np.random.randn(5,1)*4)#-4 ile 4 aralığında "
   ]
  },
  {
   "cell_type": "code",
   "execution_count": 67,
   "metadata": {},
   "outputs": [
    {
     "data": {
      "text/plain": [
       "<matplotlib.collections.PathCollection at 0x7fb99fb2ea00>"
      ]
     },
     "execution_count": 67,
     "metadata": {},
     "output_type": "execute_result"
    },
    {
     "data": {
      "image/png": "[encoded data removed]",
      "text/plain": [
       "<Figure size 432x288 with 1 Axes>"
      ]
     },
     "metadata": {
      "needs_background": "light"
     },
     "output_type": "display_data"
    }
   ],
   "source": [
    "#Grafiği hangi aralıkta olduğu görelim diye çizdirdim. \n",
    "#Burda genellikle std = 1 olmasına rağmen -3 ile 3 arasında oluşmuş.\n",
    "rasgelesayi = np.random.randn(1000)\n",
    "aralik = np.arange(1000)\n",
    "plt.scatter(aralik, rasgelesayi)"
   ]
  },
  {
   "cell_type": "code",
   "execution_count": 68,
   "metadata": {},
   "outputs": [
    {
     "data": {
      "text/plain": [
       "<matplotlib.collections.PathCollection at 0x7fb99f96fe80>"
      ]
     },
     "execution_count": 68,
     "metadata": {},
     "output_type": "execute_result"
    },
    {
     "data": {
      "image/png": "[encoded data removed]",
      "text/plain": [
       "<Figure size 432x288 with 1 Axes>"
      ]
     },
     "metadata": {
      "needs_background": "light"
     },
     "output_type": "display_data"
    }
   ],
   "source": [
    "#Grafiği hangi aralıkta olduğu görelim diye çizdirdim. \n",
    "rasgelesayi = np.random.randn(1000)*2\n",
    "aralik = np.arange(1000)\n",
    "plt.scatter(aralik, rasgelesayi)"
   ]
  },
  {
   "cell_type": "code",
   "execution_count": 66,
   "metadata": {},
   "outputs": [
    {
     "data": {
      "text/plain": [
       "<matplotlib.collections.PathCollection at 0x7fb9a02e0fa0>"
      ]
     },
     "execution_count": 66,
     "metadata": {},
     "output_type": "execute_result"
    },
    {
     "data": {
      "image/png": "[encoded data removed]",
      "text/plain": [
       "<Figure size 432x288 with 1 Axes>"
      ]
     },
     "metadata": {
      "needs_background": "light"
     },
     "output_type": "display_data"
    }
   ],
   "source": [
    "#Grafiği hangi aralıkta olduğu görelim diye çizdirdim. \n",
    "rasgelesayi = np.random.randn(1000)*90\n",
    "aralik = np.arange(1000)\n",
    "plt.scatter(aralik, rasgelesayi)"
   ]
  },
  {
   "cell_type": "markdown",
   "metadata": {},
   "source": [
    "### normal"
   ]
  },
  {
   "cell_type": "code",
   "execution_count": 70,
   "metadata": {},
   "outputs": [
    {
     "data": {
      "text/plain": [
       "1.2310498097890068"
      ]
     },
     "execution_count": 70,
     "metadata": {},
     "output_type": "execute_result"
    }
   ],
   "source": [
    "a = np.random.normal()#normal dağılımdan bir sayı çeker.\n",
    "a"
   ]
  },
  {
   "cell_type": "code",
   "execution_count": 71,
   "metadata": {},
   "outputs": [
    {
     "name": "stdout",
     "output_type": "stream",
     "text": [
      "1.9579385436798034\n"
     ]
    }
   ],
   "source": [
    "print(np.random.normal())"
   ]
  },
  {
   "cell_type": "code",
   "execution_count": 75,
   "metadata": {},
   "outputs": [
    {
     "name": "stdout",
     "output_type": "stream",
     "text": [
      "0.4361711242154734\n"
     ]
    }
   ],
   "source": [
    "print(np.random.normal(0,1))#loc=0.0, scale=1.0, size=None"
   ]
  },
  {
   "cell_type": "code",
   "execution_count": 76,
   "metadata": {},
   "outputs": [
    {
     "name": "stdout",
     "output_type": "stream",
     "text": [
      "-9.402359890988386\n"
     ]
    }
   ],
   "source": [
    "print(np.random.normal(0,12))#loc=0.0, scale=12.0, size=None"
   ]
  },
  {
   "cell_type": "code",
   "execution_count": 77,
   "metadata": {},
   "outputs": [
    {
     "name": "stdout",
     "output_type": "stream",
     "text": [
      "[[-1.23988563 -1.07504904]\n",
      " [ 3.07610628  0.72977568]\n",
      " [-0.33380019 -0.51223517]\n",
      " [-1.35578589  0.87212688]\n",
      " [ 0.82695653  0.69528127]\n",
      " [-0.73759297 -0.76935702]\n",
      " [ 1.93818091 -0.68277341]]\n"
     ]
    }
   ],
   "source": [
    "print(np.random.normal(0,1,(7,2)))"
   ]
  },
  {
   "cell_type": "code",
   "execution_count": 78,
   "metadata": {},
   "outputs": [
    {
     "data": {
      "text/plain": [
       "<matplotlib.collections.PathCollection at 0x7fb99faa11c0>"
      ]
     },
     "execution_count": 78,
     "metadata": {},
     "output_type": "execute_result"
    },
    {
     "data": {
      "image/png": "[encoded data removed]",
      "text/plain": [
       "<Figure size 432x288 with 1 Axes>"
      ]
     },
     "metadata": {
      "needs_background": "light"
     },
     "output_type": "display_data"
    }
   ],
   "source": [
    "#Grafiği hangi aralıkta olduğu görelim diye çizdirdim. \n",
    "rasgelesayi = np.random.normal(size=1000)\n",
    "aralik = np.arange(1000)\n",
    "plt.scatter(aralik, rasgelesayi)"
   ]
  },
  {
   "cell_type": "code",
   "execution_count": 79,
   "metadata": {},
   "outputs": [
    {
     "data": {
      "text/plain": [
       "<matplotlib.collections.PathCollection at 0x7fb99ea094c0>"
      ]
     },
     "execution_count": 79,
     "metadata": {},
     "output_type": "execute_result"
    },
    {
     "data": {
      "image/png": "[encoded data removed]",
      "text/plain": [
       "<Figure size 432x288 with 1 Axes>"
      ]
     },
     "metadata": {
      "needs_background": "light"
     },
     "output_type": "display_data"
    }
   ],
   "source": [
    "#Grafiği hangi aralıkta olduğu görelim diye çizdirdim. \n",
    "rasgelesayi = np.random.normal(loc= 10,size=1000) #on etrafında oluşan normal dağılım oluşturduk.\n",
    "aralik = np.arange(1000)\n",
    "plt.scatter(aralik, rasgelesayi)"
   ]
  },
  {
   "cell_type": "code",
   "execution_count": 81,
   "metadata": {},
   "outputs": [
    {
     "data": {
      "text/plain": [
       "<matplotlib.collections.PathCollection at 0x7fb99f15e3a0>"
      ]
     },
     "execution_count": 81,
     "metadata": {},
     "output_type": "execute_result"
    },
    {
     "data": {
      "image/png": "[encoded data removed]",
      "text/plain": [
       "<Figure size 432x288 with 1 Axes>"
      ]
     },
     "metadata": {
      "needs_background": "light"
     },
     "output_type": "display_data"
    }
   ],
   "source": [
    "#Grafiği hangi aralıkta olduğu görelim diye çizdirdim. \n",
    "rasgelesayi = np.random.normal(loc= 50, scale= 10, size=1000) #on etrafında oluşan normal dağılım oluşturduk.\n",
    "aralik = np.arange(1000)\n",
    "plt.scatter(aralik, rasgelesayi)"
   ]
  },
  {
   "cell_type": "markdown",
   "metadata": {},
   "source": [
    "### exponential"
   ]
  },
  {
   "cell_type": "markdown",
   "metadata": {},
   "source": [
    "Üstel dağılımdan sayı üretir."
   ]
  },
  {
   "cell_type": "code",
   "execution_count": 82,
   "metadata": {},
   "outputs": [
    {
     "data": {
      "text/plain": [
       "0.352079223852798"
      ]
     },
     "execution_count": 82,
     "metadata": {},
     "output_type": "execute_result"
    }
   ],
   "source": [
    "a = np.random.exponential()#Üstel dağılımdan sayı üretir.\n",
    "a"
   ]
  },
  {
   "cell_type": "code",
   "execution_count": 83,
   "metadata": {},
   "outputs": [
    {
     "name": "stdout",
     "output_type": "stream",
     "text": [
      "1.0842568795893088\n"
     ]
    }
   ],
   "source": [
    "print(np.random.exponential())"
   ]
  },
  {
   "cell_type": "code",
   "execution_count": 84,
   "metadata": {},
   "outputs": [
    {
     "name": "stdout",
     "output_type": "stream",
     "text": [
      "0.31938585454143775\n"
     ]
    }
   ],
   "source": [
    "print(np.random.exponential(scale=2))#scale = ölçek, genişlik"
   ]
  },
  {
   "cell_type": "code",
   "execution_count": 85,
   "metadata": {},
   "outputs": [
    {
     "name": "stdout",
     "output_type": "stream",
     "text": [
      "[[1.22068113]\n",
      " [0.06060916]\n",
      " [3.94000685]\n",
      " [3.27689504]]\n"
     ]
    }
   ],
   "source": [
    "print(np.random.exponential(scale=2,size=(4,1)))"
   ]
  },
  {
   "cell_type": "code",
   "execution_count": 87,
   "metadata": {},
   "outputs": [
    {
     "data": {
      "text/plain": [
       "<matplotlib.collections.PathCollection at 0x7fb99fbc39a0>"
      ]
     },
     "execution_count": 87,
     "metadata": {},
     "output_type": "execute_result"
    },
    {
     "data": {
      "image/png": "[encoded data removed]",
      "text/plain": [
       "<Figure size 432x288 with 1 Axes>"
      ]
     },
     "metadata": {
      "needs_background": "light"
     },
     "output_type": "display_data"
    }
   ],
   "source": [
    "#Grafiği hangi aralıkta olduğu görelim diye çizdirdim. \n",
    "rasgelesayi = np.random.exponential(scale= 10, size=1000) #on etrafında oluşan normal dağılım oluşturduk.\n",
    "aralik = np.arange(1000)\n",
    "plt.scatter(aralik, rasgelesayi)"
   ]
  },
  {
   "cell_type": "markdown",
   "metadata": {},
   "source": [
    "## random shuffle"
   ]
  },
  {
   "cell_type": "code",
   "execution_count": 88,
   "metadata": {},
   "outputs": [
    {
     "data": {
      "text/plain": [
       "array([0, 1, 2, 3, 4, 5, 6, 7, 8, 9])"
      ]
     },
     "execution_count": 88,
     "metadata": {},
     "output_type": "execute_result"
    }
   ],
   "source": [
    "x = np.arange(10,)\n",
    "x"
   ]
  },
  {
   "cell_type": "code",
   "execution_count": 89,
   "metadata": {},
   "outputs": [
    {
     "data": {
      "text/plain": [
       "array([3, 0, 4, 8, 7, 2, 6, 5, 1, 9])"
      ]
     },
     "execution_count": 89,
     "metadata": {},
     "output_type": "execute_result"
    }
   ],
   "source": [
    "random.shuffle(x)\n",
    "x"
   ]
  },
  {
   "cell_type": "markdown",
   "metadata": {},
   "source": [
    "## random seed"
   ]
  },
  {
   "cell_type": "code",
   "execution_count": 98,
   "metadata": {},
   "outputs": [
    {
     "name": "stdout",
     "output_type": "stream",
     "text": [
      "0.1163963513676991\n",
      "0.5835675010336673\n",
      "0.9595753463348308\n",
      "0.8607018562588133\n",
      "0.7533075452485746\n",
      "0.40634865111879426\n"
     ]
    }
   ],
   "source": [
    "np.random.seed(9928)\n",
    "for i in range(6):\n",
    "    print(np.random.uniform())"
   ]
  },
  {
   "cell_type": "code",
   "execution_count": 100,
   "metadata": {},
   "outputs": [
    {
     "name": "stdout",
     "output_type": "stream",
     "text": [
      "0.1163963513676991\n",
      "0.5835675010336673\n",
      "0.9595753463348308\n",
      "0.8607018562588133\n",
      "0.7533075452485746\n",
      "0.40634865111879426\n"
     ]
    }
   ],
   "source": [
    "\n",
    "\n",
    "\n",
    "np.random.seed(9928)\n",
    "for i in range(6):\n",
    "    print(np.random.uniform())"
   ]
  },
  {
   "cell_type": "markdown",
   "metadata": {},
   "source": [
    "Gördüğümüz gibi rasgele sayı malesef tektüze gidiyor. Bazen olmasını isteye biliriz. Ozaman seed oluşturup hep aynı değerleri ekrana bastarabiliriz."
   ]
  },
  {
   "cell_type": "code",
   "execution_count": 101,
   "metadata": {},
   "outputs": [
    {
     "data": {
      "text/plain": [
       "<numpy.random._mt19937.MT19937 at 0x7fb998a3e010>"
      ]
     },
     "execution_count": 101,
     "metadata": {},
     "output_type": "execute_result"
    }
   ],
   "source": [
    "#Seed 1 yapmıştık ama sürekli belirli bir sayı gelmesini istemedğimizde kapatmak için kullanırız\n",
    "np.random.MT19937(seed=None)"
   ]
  },
  {
   "cell_type": "code",
   "execution_count": 102,
   "metadata": {},
   "outputs": [
    {
     "name": "stdout",
     "output_type": "stream",
     "text": [
      "0.6694262846841628\n",
      "0.18425152400147637\n",
      "0.7186997698811306\n",
      "0.3164704730845811\n",
      "0.7447614195574551\n"
     ]
    }
   ],
   "source": [
    "for i in range(5):\n",
    "    print(np.random.uniform())"
   ]
  },
  {
   "cell_type": "markdown",
   "metadata": {},
   "source": [
    "## choice\n",
    "random modülünün choice() adlı fonksiyonunu kullanarak, dizi niteliği taşıyan veri tiplerinden rastgele öğeler seçebiliriz. Bu tanım biraz anlaşılmaz gelmiş olabilir. O yüzden bunu bir örnekle açıklayalım."
   ]
  },
  {
   "cell_type": "code",
   "execution_count": 118,
   "metadata": {},
   "outputs": [
    {
     "data": {
      "text/plain": [
       "array([0, 1, 2, 3, 4, 5, 6, 7, 8, 9])"
      ]
     },
     "execution_count": 118,
     "metadata": {},
     "output_type": "execute_result"
    }
   ],
   "source": [
    "liste = np.arange(10)\n",
    "liste"
   ]
  },
  {
   "cell_type": "code",
   "execution_count": 106,
   "metadata": {},
   "outputs": [
    {
     "data": {
      "text/plain": [
       "3"
      ]
     },
     "execution_count": 106,
     "metadata": {},
     "output_type": "execute_result"
    }
   ],
   "source": [
    "np.random.choice(liste)"
   ]
  },
  {
   "cell_type": "code",
   "execution_count": 107,
   "metadata": {},
   "outputs": [],
   "source": [
    "liste = [\"Bir\",\"Ben\",\"Veri\",\"Kişi\"]"
   ]
  },
  {
   "cell_type": "code",
   "execution_count": 110,
   "metadata": {},
   "outputs": [
    {
     "data": {
      "text/plain": [
       "'Ben'"
      ]
     },
     "execution_count": 110,
     "metadata": {},
     "output_type": "execute_result"
    }
   ],
   "source": [
    "np.random.choice(liste)"
   ]
  },
  {
   "cell_type": "code",
   "execution_count": 125,
   "metadata": {},
   "outputs": [
    {
     "data": {
      "text/plain": [
       "array([8, 8])"
      ]
     },
     "execution_count": 125,
     "metadata": {},
     "output_type": "execute_result"
    }
   ],
   "source": [
    "np.random.choice(liste,size=2)"
   ]
  },
  {
   "cell_type": "code",
   "execution_count": 126,
   "metadata": {},
   "outputs": [
    {
     "name": "stdout",
     "output_type": "stream",
     "text": [
      "[3 0]\n"
     ]
    }
   ],
   "source": [
    "print(np.random.choice(liste,size=2,replace=False))#aynı değeri ikinci defa çekemez"
   ]
  },
  {
   "cell_type": "code",
   "execution_count": 127,
   "metadata": {},
   "outputs": [
    {
     "name": "stdout",
     "output_type": "stream",
     "text": [
      "[5 3]\n"
     ]
    }
   ],
   "source": [
    "print(np.random.choice(liste,size=2,replace=True)) #çekilen kişi bir daha çekilebilir"
   ]
  },
  {
   "cell_type": "markdown",
   "metadata": {},
   "source": [
    "## choose"
   ]
  },
  {
   "cell_type": "code",
   "execution_count": 131,
   "metadata": {},
   "outputs": [
    {
     "name": "stdout",
     "output_type": "stream",
     "text": [
      "[-4. -3. -2. -1.  0.  1.  2.  3.  4.]\n",
      "[16.  9.  4. -1.  0.  1. 16. 81. 16.]\n"
     ]
    }
   ],
   "source": [
    "x = np.linspace(-4,4,9)\n",
    "y = np.choose([0,0,0,1,1,1,2,2,0], [x**2, x**3, x**4])\n",
    "print(x, y, sep=\"\\n\")"
   ]
  },
  {
   "cell_type": "code",
   "execution_count": null,
   "metadata": {},
   "outputs": [],
   "source": []
  }
 ],
 "metadata": {
  "kernelspec": {
   "display_name": "Python 3",
   "language": "python",
   "name": "python3"
  },
  "language_info": {
   "codemirror_mode": {
    "name": "ipython",
    "version": 3
   },
   "file_extension": ".py",
   "mimetype": "text/x-python",
   "name": "python",
   "nbconvert_exporter": "python",
   "pygments_lexer": "ipython3",
   "version": "3.8.3"
  }
 },
 "nbformat": 4,
 "nbformat_minor": 4
}
